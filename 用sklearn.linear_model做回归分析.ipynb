{
 "cells": [
  {
   "cell_type": "markdown",
   "metadata": {},
   "source": [
    "# 在Python中使用线性回归预测房子价格"
   ]
  },
  {
   "cell_type": "markdown",
   "metadata": {},
   "source": [
    "参考资料：\n",
    "> http://python.jobbole.com/81215/  \n",
    "https://scikit-learn.org/stable/"
   ]
  },
  {
   "cell_type": "code",
   "execution_count": 1,
   "metadata": {},
   "outputs": [
    {
     "data": {
      "text/html": [
       "<div>\n",
       "<style scoped>\n",
       "    .dataframe tbody tr th:only-of-type {\n",
       "        vertical-align: middle;\n",
       "    }\n",
       "\n",
       "    .dataframe tbody tr th {\n",
       "        vertical-align: top;\n",
       "    }\n",
       "\n",
       "    .dataframe thead th {\n",
       "        text-align: right;\n",
       "    }\n",
       "</style>\n",
       "<table border=\"1\" class=\"dataframe\">\n",
       "  <thead>\n",
       "    <tr style=\"text-align: right;\">\n",
       "      <th></th>\n",
       "      <th>square_feet</th>\n",
       "      <th>price</th>\n",
       "    </tr>\n",
       "  </thead>\n",
       "  <tbody>\n",
       "    <tr>\n",
       "      <td>1</td>\n",
       "      <td>150</td>\n",
       "      <td>6450</td>\n",
       "    </tr>\n",
       "    <tr>\n",
       "      <td>2</td>\n",
       "      <td>200</td>\n",
       "      <td>7450</td>\n",
       "    </tr>\n",
       "    <tr>\n",
       "      <td>3</td>\n",
       "      <td>250</td>\n",
       "      <td>8450</td>\n",
       "    </tr>\n",
       "    <tr>\n",
       "      <td>4</td>\n",
       "      <td>300</td>\n",
       "      <td>9450</td>\n",
       "    </tr>\n",
       "    <tr>\n",
       "      <td>5</td>\n",
       "      <td>350</td>\n",
       "      <td>11450</td>\n",
       "    </tr>\n",
       "    <tr>\n",
       "      <td>6</td>\n",
       "      <td>400</td>\n",
       "      <td>15450</td>\n",
       "    </tr>\n",
       "    <tr>\n",
       "      <td>7</td>\n",
       "      <td>600</td>\n",
       "      <td>18450</td>\n",
       "    </tr>\n",
       "  </tbody>\n",
       "</table>\n",
       "</div>"
      ],
      "text/plain": [
       "   square_feet  price\n",
       "1          150   6450\n",
       "2          200   7450\n",
       "3          250   8450\n",
       "4          300   9450\n",
       "5          350  11450\n",
       "6          400  15450\n",
       "7          600  18450"
      ]
     },
     "execution_count": 1,
     "metadata": {},
     "output_type": "execute_result"
    }
   ],
   "source": [
    "import pandas as pd\n",
    "import numpy as np\n",
    "from sklearn.linear_model import LinearRegression#从一个二级模块导入一个三级功能\n",
    "\n",
    "data=pd.read_excel('price.xlsx', index_col=0)\n",
    "data"
   ]
  },
  {
   "cell_type": "code",
   "execution_count": 2,
   "metadata": {},
   "outputs": [
    {
     "data": {
      "text/plain": [
       "[(150, 6450),\n",
       " (200, 7450),\n",
       " (250, 8450),\n",
       " (300, 9450),\n",
       " (350, 11450),\n",
       " (400, 15450),\n",
       " (600, 18450)]"
      ]
     },
     "execution_count": 2,
     "metadata": {},
     "output_type": "execute_result"
    }
   ],
   "source": [
    "[x for x in zip(data['square_feet'],data['price'])]"
   ]
  },
  {
   "cell_type": "code",
   "execution_count": 4,
   "metadata": {},
   "outputs": [
    {
     "name": "stdout",
     "output_type": "stream",
     "text": [
      "[[150], [200], [250], [300], [350], [400], [600]]\n",
      "[6450, 7450, 8450, 9450, 11450, 15450, 18450]\n"
     ]
    }
   ],
   "source": [
    "#把数据转换为X值（平方英尺）、Y值（价格）\n",
    "X_parameter = []\n",
    "Y_parameter = []\n",
    "for square_feet,price_value in zip(data['square_feet'],data['price']):\n",
    "    X_parameter.append([square_feet])\n",
    "    Y_parameter.append(price_value)\n",
    "print(X_parameter)#是二位的\n",
    "print(Y_parameter)#是一维的，这里的数据处理，是使用的算法，要求x是二维的"
   ]
  },
  {
   "cell_type": "code",
   "execution_count": 6,
   "metadata": {},
   "outputs": [
    {
     "data": {
      "text/plain": [
       "7"
      ]
     },
     "execution_count": 6,
     "metadata": {},
     "output_type": "execute_result"
    }
   ],
   "source": [
    "len(X_parameter)"
   ]
  },
  {
   "cell_type": "code",
   "execution_count": 3,
   "metadata": {},
   "outputs": [],
   "source": [
    "#把X_parameter和Y_parameter拟合为线性回归模型。\n",
    "#我们要写一个函数，输入为X_parameters、Y_parameter和你要预测的平方英尺值，返回θ0、θ1和预测出的价格值。\n",
    "def linear_model_main(X_parameter, Y_parameter, predicted_value):\n",
    "    '''\n",
    "    房价预测的线性回归模型\n",
    "    X_parameter：2D Array，住房面积\n",
    "    Y_parameter：1D Array，价格\n",
    "    predicted_value：2D Array，待遇预测房屋的面积\n",
    "    \n",
    "    return：dictionary，线性回归的截距、回归系数、预测的房屋价格\n",
    "    '''\n",
    "    regr = LinearRegression()#把函数赋给regr，简写，方便\n",
    "    regr.fit(X_parameter,Y_parameter)#前面这两行，创建一个线性模型，用我们的X_parameters和Y_parameter拟合它。\n",
    "    predict_outcome = regr.predict(predicted_value)\n",
    "    predictions = {} #我们创建一个名称为predictions的字典，存着θ0、θ1和预测值，并返回predictions字典为输出。\n",
    "    predictions['intercept'] = regr.intercept_ #指定字典的key，分别是intercept、coefficient、predicted_value\n",
    "    predictions['coefficient'] = regr.coef_\n",
    "    predictions['predicted_value'] = predict_outcome\n",
    "    return predictions"
   ]
  },
  {
   "cell_type": "code",
   "execution_count": 5,
   "metadata": {},
   "outputs": [
    {
     "name": "stdout",
     "output_type": "stream",
     "text": [
      "Predicted value:  [27670.74468085]\n"
     ]
    },
    {
     "data": {
      "text/plain": [
       "{'intercept': 1771.8085106382969,\n",
       " 'coefficient': array([28.77659574]),\n",
       " 'predicted_value': array([27670.74468085])}"
      ]
     },
     "execution_count": 5,
     "metadata": {},
     "output_type": "execute_result"
    }
   ],
   "source": [
    "result = linear_model_main(X_parameter, Y_parameter, predicted_value=[[900.]])#predicted_value需要时2D的\n",
    "print(\"Predicted value: \",result['predicted_value'])\n",
    "result"
   ]
  },
  {
   "cell_type": "code",
   "execution_count": 6,
   "metadata": {},
   "outputs": [
    {
     "data": {
      "text/plain": [
       "1771.8085106382969"
      ]
     },
     "execution_count": 6,
     "metadata": {},
     "output_type": "execute_result"
    }
   ],
   "source": [
    "result['intercept']"
   ]
  },
  {
   "cell_type": "code",
   "execution_count": 7,
   "metadata": {},
   "outputs": [
    {
     "name": "stdout",
     "output_type": "stream",
     "text": [
      "{'intercept': 1771.8085106382969, 'coefficient': array([28.77659574]), 'predicted_value': array([27670.74468085])}\n",
      "{'intercept': 1771.8085106382969, 'coefficient': array([28.77659574]), 'predicted_value': array([27670.74468085])}\n"
     ]
    }
   ],
   "source": [
    "# 方法1\n",
    "result_1 = linear_model_main(X_parameter, Y_parameter, predicted_value=[[900.]])\n",
    "print(result_1)\n",
    "# 方法2\n",
    "prevalue = [[900.]]\n",
    "result_2 = linear_model_main(X_parameter, Y_parameter, prevalue)\n",
    "print(result_2)"
   ]
  },
  {
   "cell_type": "code",
   "execution_count": null,
   "metadata": {
    "collapsed": true,
    "jupyter": {
     "outputs_hidden": true
    }
   },
   "outputs": [],
   "source": []
  }
 ],
 "metadata": {
  "kernelspec": {
   "display_name": "Python 3",
   "language": "python",
   "name": "python3"
  },
  "language_info": {
   "codemirror_mode": {
    "name": "ipython",
    "version": 3
   },
   "file_extension": ".py",
   "mimetype": "text/x-python",
   "name": "python",
   "nbconvert_exporter": "python",
   "pygments_lexer": "ipython3",
   "version": "3.7.4"
  }
 },
 "nbformat": 4,
 "nbformat_minor": 4
}
